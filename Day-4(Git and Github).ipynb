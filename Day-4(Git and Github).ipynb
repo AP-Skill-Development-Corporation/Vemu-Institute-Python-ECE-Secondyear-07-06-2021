{
 "cells": [
  {
   "cell_type": "markdown",
   "metadata": {},
   "source": [
    "# Git and Git hub"
   ]
  },
  {
   "cell_type": "markdown",
   "metadata": {},
   "source": [
    "## Git \n",
    "- Git is a version control system that lets you manage and keep track of your source code history.\n",
    "\n",
    "## Git hub\n",
    "- GitHub is a cloud-based hosting service that lets you manage Git repositories. If you have open-source projects that use Git, then GitHub is designed to help you better manage them. \n",
    "\n",
    "## Git bash\n",
    "- Git Bash is an application for Microsoft Windows environments which provides an emulation layer for a Git command line experience. Bash is an acronym for Bourne Again Shell. A shell is a terminal application used to interface with an operating system through written commands."
   ]
  },
  {
   "cell_type": "markdown",
   "metadata": {},
   "source": [
    "# Git Commands for Files to send Local repository to Remote repository"
   ]
  },
  {
   "cell_type": "markdown",
   "metadata": {},
   "source": [
    "- ***git init [repository name]***: This command is used to start a new repository.\n",
    "\n",
    "    - eg : git init\n",
    "\n",
    "- ***git add filename***: This command adds a file to the staging area.\n",
    "    - eg : git add sample.txt\n",
    "    \n",
    "- ***git add * or git add . ***: This command adds one or more to the staging area.\n",
    "    - eg : git add .\n",
    "    \n",
    "- ***git commit -m “Type in the commit message” ***  : This command records or snapshots the file permanently in the version history.\n",
    "    - eg: git commit -m \"sample.txt file send\"\n",
    "\n",
    "- ***git commit -a *** :This command commits any files you’ve added with the git add command and also commits any files you’ve changed since then.\n",
    "\n",
    "- ***git status *** : This command lists all the files that have to be committed.\n",
    "    - eg : git status\n",
    "    \n",
    "- ***git remote add [variable name][Remote Server Link] *** : This command is used to connect your local repository to the remote server.\n",
    "    - eg: git remote add origin \"url repository link\"\n",
    "    \n",
    "- ***git push [variable name] master ***: This command sends the committed changes of master branch to your remote repository.\n",
    "    - eg: git push origin master\n",
    "\n",
    "- ***git config --global user.name : add git username ***: This command sets the author name and email address respectively to be used with your commits.\n",
    "    - eg : git config --global user.name \"indupriya\"\n",
    "    \n",
    "- ***git config --global user.email : add git user email ***:This command sets the author name and email address respectively to be used with your commits.\n",
    "    - eg : git config --global user.email \"indupriya.p@apssdc.in\""
   ]
  },
  {
   "cell_type": "code",
   "execution_count": null,
   "metadata": {},
   "outputs": [],
   "source": []
  },
  {
   "cell_type": "markdown",
   "metadata": {},
   "source": [
    "## To get files Remote repository to local repository"
   ]
  },
  {
   "cell_type": "markdown",
   "metadata": {},
   "source": [
    "- git clone \"remote repository url\""
   ]
  },
  {
   "cell_type": "code",
   "execution_count": null,
   "metadata": {},
   "outputs": [],
   "source": []
  },
  {
   "cell_type": "markdown",
   "metadata": {},
   "source": [
    "## Linux Commands "
   ]
  },
  {
   "cell_type": "markdown",
   "metadata": {},
   "source": [
    "- pwd : Present Working Directory\n",
    "- ls : To see hidden files\n",
    "- cd : Change directory\n",
    "- mkdir : Make directory/create directory(folder)\n",
    "- rmdir : remove directory(folder)\n",
    "- touch: To create a file\n",
    "- man/help : to know about all commands\n",
    "- cat : To display content inside a file\n",
    "- nano: To create and write data inside file\n"
   ]
  },
  {
   "cell_type": "code",
   "execution_count": null,
   "metadata": {},
   "outputs": [],
   "source": []
  }
 ],
 "metadata": {
  "kernelspec": {
   "display_name": "Python 3",
   "language": "python",
   "name": "python3"
  },
  "language_info": {
   "codemirror_mode": {
    "name": "ipython",
    "version": 3
   },
   "file_extension": ".py",
   "mimetype": "text/x-python",
   "name": "python",
   "nbconvert_exporter": "python",
   "pygments_lexer": "ipython3",
   "version": "3.7.3"
  }
 },
 "nbformat": 4,
 "nbformat_minor": 2
}
