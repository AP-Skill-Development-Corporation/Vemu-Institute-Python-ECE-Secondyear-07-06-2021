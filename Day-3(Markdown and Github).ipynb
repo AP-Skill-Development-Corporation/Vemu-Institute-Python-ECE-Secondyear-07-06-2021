{
 "cells": [
  {
   "cell_type": "markdown",
   "metadata": {},
   "source": [
    "# Literate Programming \n",
    "- The combination of both coding and Documentation\n",
    "- To design a documentation and Format\n",
    " "
   ]
  },
  {
   "cell_type": "markdown",
   "metadata": {},
   "source": [
    "## Markdown"
   ]
  },
  {
   "cell_type": "code",
   "execution_count": 1,
   "metadata": {},
   "outputs": [
    {
     "data": {
      "text/plain": [
       "30"
      ]
     },
     "execution_count": 1,
     "metadata": {},
     "output_type": "execute_result"
    }
   ],
   "source": [
    "a=10\n",
    "b=20\n",
    "a+b"
   ]
  },
  {
   "cell_type": "markdown",
   "metadata": {},
   "source": [
    "Syntax for Markdown"
   ]
  },
  {
   "cell_type": "markdown",
   "metadata": {},
   "source": [
    "# Headings (# - ######)"
   ]
  },
  {
   "cell_type": "markdown",
   "metadata": {},
   "source": [
    "# Heading1\n",
    "## Heading2\n",
    "### Heading3\n",
    "#### Heading4\n",
    "##### Heading5\n",
    "###### Heading6\n",
    "####### Heading7 and above"
   ]
  },
  {
   "cell_type": "markdown",
   "metadata": {},
   "source": [
    "## Paragraph"
   ]
  },
  {
   "cell_type": "markdown",
   "metadata": {},
   "source": [
    "Hello Vemu College Guys Welcome to Python Online Session conducted by APSSDC\n",
    "\n",
    "We are the Trainers\n",
    "\n",
    "InduPriya\n",
    "Siddhodana"
   ]
  },
  {
   "cell_type": "markdown",
   "metadata": {},
   "source": [
    "# Bold(**  text  ** ) and Itallic(* text *)"
   ]
  },
  {
   "cell_type": "markdown",
   "metadata": {},
   "source": [
    "Hello *Vemu College* Guys Welcome to Python Online Session conducted by ***APSSDC***\n",
    "\n",
    "We are the Trainers\n",
    "\n",
    "**InduPriya**\n",
    "\n",
    "**Siddhodana**\n",
    "\n"
   ]
  },
  {
   "cell_type": "markdown",
   "metadata": {},
   "source": [
    "## Order List"
   ]
  },
  {
   "cell_type": "markdown",
   "metadata": {},
   "source": [
    "Here we all are B.tech ECE Students also different Groups\n",
    "\n",
    "1.ECE\n",
    "\n",
    "2.EEE\n",
    "\n",
    "3.CSE\n",
    "\n",
    "4.IT"
   ]
  },
  {
   "cell_type": "markdown",
   "metadata": {},
   "source": [
    "Here we all are B.tech ECE Students also different Groups\n",
    "\n",
    "A.ECE\n",
    "\n",
    "B.EEE\n",
    "\n",
    "C.CSE\n",
    "\n",
    "D.IT"
   ]
  },
  {
   "cell_type": "markdown",
   "metadata": {},
   "source": [
    "## Unorder List(- , * )"
   ]
  },
  {
   "cell_type": "markdown",
   "metadata": {},
   "source": [
    "Here we all are B.tech ECE Students also different Groups\n",
    "\n",
    "* ECE\n",
    "   * ECE A\n",
    "       * Lateral\n",
    "       * Regular\n",
    "   * ECE B\n",
    "* EEE\n",
    "* CSE\n",
    "* IT"
   ]
  },
  {
   "cell_type": "markdown",
   "metadata": {},
   "source": [
    "# Images--  ![]()"
   ]
  },
  {
   "cell_type": "markdown",
   "metadata": {},
   "source": [
    "![APSSDC LOGO](apssdc.png)"
   ]
  },
  {
   "cell_type": "markdown",
   "metadata": {},
   "source": [
    "![Vemucolg](vemu1.jpg)"
   ]
  },
  {
   "cell_type": "markdown",
   "metadata": {},
   "source": [
    "![Vemucolg](vemu.jpg)"
   ]
  },
  {
   "cell_type": "markdown",
   "metadata": {},
   "source": [
    "# Links"
   ]
  },
  {
   "cell_type": "markdown",
   "metadata": {},
   "source": [
    "[Vemu Institute](http://www.vemu.org/)\n",
    "\n",
    "\n",
    "[markdown Cheatsheet](https://www.markdownguide.org/cheat-sheet/)"
   ]
  },
  {
   "cell_type": "markdown",
   "metadata": {},
   "source": [
    "Today [APSSDC](http://engineering.apssdc.in/)  conduct  [Python](https://www.python.org/) and [Django](https://docs.djangoproject.com/en/3.2/intro/tutorial01/) Online Session for [Vemu Colg](http://www.vemu.org/) students"
   ]
  },
  {
   "cell_type": "code",
   "execution_count": null,
   "metadata": {},
   "outputs": [],
   "source": [
    "- [Text ](url) - Link\n",
    "- ![Text](img url) - image"
   ]
  },
  {
   "cell_type": "markdown",
   "metadata": {},
   "source": []
  },
  {
   "cell_type": "markdown",
   "metadata": {},
   "source": [
    "## Block quotes"
   ]
  },
  {
   "cell_type": "markdown",
   "metadata": {},
   "source": [
    "Python is used for GUI apps all the time. PyGame and Ren'Py make it easy to make desktop games in Python. ... And, as you mentioned, Kivy can also be used to build desktop and mobile apps in it. So, yeah, Python is definitely suitable for GUI applications."
   ]
  },
  {
   "cell_type": "markdown",
   "metadata": {},
   "source": [
    "> Python is used for GUI apps all the time. PyGame and Ren'Py make it easy to make desktop games in Python. ... And, as you mentioned, Kivy can also be used to build desktop and mobile apps in it. So, yeah, Python is definitely suitable for GUI applications."
   ]
  },
  {
   "cell_type": "markdown",
   "metadata": {},
   "source": [
    ">> Python is used for GUI apps all the time. PyGame and Ren'Py make it easy to make desktop games in Python. ... And, as you mentioned, Kivy can also be used to build desktop and mobile apps in it. So, yeah, Python is definitely suitable for GUI applications.\n",
    "\n",
    "-----\n",
    ">>> Python is used for GUI apps all the time. PyGame and Ren'Py make it easy to make desktop games in Python. ... And, as you mentioned, Kivy can also be used to build desktop and mobile apps in it. So, yeah, Python is definitely suitable for GUI applications."
   ]
  },
  {
   "cell_type": "markdown",
   "metadata": {},
   "source": [
    ">>>Python is used for GUI apps all the time. PyGame and Ren'Py make it easy to make desktop games in Python. ... And, as you mentioned, Kivy can also be used to build desktop and mobile apps in it. So, yeah, Python is definitely suitable for GUI applications."
   ]
  },
  {
   "cell_type": "markdown",
   "metadata": {},
   "source": [
    "Who invented Python\n",
    "\n",
    "- [ ] Charles Babbege\n",
    "- [ ] Markdown\n",
    "- [x] Guido Van Rossum\n",
    "- [ ] Dennis ritche "
   ]
  },
  {
   "cell_type": "markdown",
   "metadata": {},
   "source": [
    "# Fenced Code blocks"
   ]
  },
  {
   "cell_type": "markdown",
   "metadata": {},
   "source": [
    "``` python\n",
    "\n",
    "print(\"This is Markdown\")\n",
    "\n",
    "```"
   ]
  },
  {
   "cell_type": "markdown",
   "metadata": {},
   "source": [
    "``` c\n",
    "\n",
    "printf(\"This is c language\")\n",
    "\n",
    "```"
   ]
  },
  {
   "cell_type": "code",
   "execution_count": null,
   "metadata": {},
   "outputs": [],
   "source": [
    "print(\"this is Markdown\")"
   ]
  },
  {
   "cell_type": "markdown",
   "metadata": {},
   "source": [
    "print(\"This is markdown\")"
   ]
  },
  {
   "cell_type": "markdown",
   "metadata": {},
   "source": [
    "# Tables"
   ]
  },
  {
   "cell_type": "markdown",
   "metadata": {},
   "source": [
    "Rollno | Name | College\n",
    "-------|-------|--------\n",
    "465    | Hindu | Vemu IT\n",
    "425    | Bhargavi| Vemu IT\n",
    "437    | Siva   | Vemu "
   ]
  },
  {
   "cell_type": "markdown",
   "metadata": {},
   "source": [
    "S.no|name|Phno\n",
    "----|----|----\n",
    "1.| One| 1234567890\n",
    "2.|Two|987654321\n",
    "3.|Three|12349876\n",
    "4.|~~Four~~|123443210\n"
   ]
  },
  {
   "cell_type": "markdown",
   "metadata": {},
   "source": [
    "## Strikeout"
   ]
  },
  {
   "cell_type": "markdown",
   "metadata": {},
   "source": [
    "I am ~~Strikeout ~~"
   ]
  },
  {
   "cell_type": "markdown",
   "metadata": {},
   "source": []
  },
  {
   "cell_type": "markdown",
   "metadata": {},
   "source": [
    "\n"
   ]
  },
  {
   "cell_type": "code",
   "execution_count": null,
   "metadata": {},
   "outputs": [],
   "source": []
  }
 ],
 "metadata": {
  "kernelspec": {
   "display_name": "Python 3",
   "language": "python",
   "name": "python3"
  },
  "language_info": {
   "codemirror_mode": {
    "name": "ipython",
    "version": 3
   },
   "file_extension": ".py",
   "mimetype": "text/x-python",
   "name": "python",
   "nbconvert_exporter": "python",
   "pygments_lexer": "ipython3",
   "version": "3.7.3"
  }
 },
 "nbformat": 4,
 "nbformat_minor": 2
}
