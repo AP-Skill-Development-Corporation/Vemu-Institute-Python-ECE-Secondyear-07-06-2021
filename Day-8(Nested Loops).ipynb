{
 "cells": [
  {
   "cell_type": "markdown",
   "metadata": {},
   "source": [
    "## Nested Loops\n",
    "\n",
    "- Loop Inside the loop\n",
    "- Outher Loop & Inner Loop\n",
    "- Inner Loopnis to be iterated with respect to(wrt) outer loop\n",
    "- Types of Nested Loops\n",
    "    - for in for\n",
    "    - for in while\n",
    "    - while in for\n",
    "    - while in while"
   ]
  },
  {
   "cell_type": "code",
   "execution_count": 12,
   "metadata": {},
   "outputs": [
    {
     "name": "stdout",
     "output_type": "stream",
     "text": [
      "5\n",
      "6\n",
      "7\n",
      "8\n",
      "9\n",
      "10\n",
      "11\n",
      "12\n",
      "13\n",
      "14\n",
      "15\n",
      "16\n",
      "17\n",
      "18\n",
      "19\n",
      "20\n",
      "1 5\n",
      "6\n",
      "7\n",
      "8\n",
      "9\n",
      "10\n",
      "11\n",
      "12\n",
      "13\n",
      "14\n",
      "15\n",
      "16\n",
      "17\n",
      "18\n",
      "19\n",
      "20\n",
      "2 5\n",
      "6\n",
      "7\n",
      "8\n",
      "9\n",
      "10\n",
      "11\n",
      "12\n",
      "13\n",
      "14\n",
      "15\n",
      "16\n",
      "17\n",
      "18\n",
      "19\n",
      "20\n",
      "3 5\n",
      "6\n",
      "7\n",
      "8\n",
      "9\n",
      "10\n",
      "11\n",
      "12\n",
      "13\n",
      "14\n",
      "15\n",
      "16\n",
      "17\n",
      "18\n",
      "19\n",
      "20\n",
      "4 5\n",
      "6\n",
      "7\n",
      "8\n",
      "9\n",
      "10\n",
      "11\n",
      "12\n",
      "13\n",
      "14\n",
      "15\n",
      "16\n",
      "17\n",
      "18\n",
      "19\n",
      "20\n",
      "5 5\n",
      "6\n",
      "7\n",
      "8\n",
      "9\n",
      "10\n",
      "11\n",
      "12\n",
      "13\n",
      "14\n",
      "15\n",
      "16\n",
      "17\n",
      "18\n",
      "19\n",
      "20\n",
      "6 5\n",
      "6\n",
      "7\n",
      "8\n",
      "9\n",
      "10\n",
      "11\n",
      "12\n",
      "13\n",
      "14\n",
      "15\n",
      "16\n",
      "17\n",
      "18\n",
      "19\n",
      "20\n",
      "7 5\n",
      "6\n",
      "7\n",
      "8\n",
      "9\n",
      "10\n",
      "11\n",
      "12\n",
      "13\n",
      "14\n",
      "15\n",
      "16\n",
      "17\n",
      "18\n",
      "19\n",
      "20\n",
      "8 5\n",
      "6\n",
      "7\n",
      "8\n",
      "9\n",
      "10\n",
      "11\n",
      "12\n",
      "13\n",
      "14\n",
      "15\n",
      "16\n",
      "17\n",
      "18\n",
      "19\n",
      "20\n",
      "9 5\n",
      "6\n",
      "7\n",
      "8\n",
      "9\n",
      "10\n",
      "11\n",
      "12\n",
      "13\n",
      "14\n",
      "15\n",
      "16\n",
      "17\n",
      "18\n",
      "19\n",
      "20\n",
      "10 "
     ]
    }
   ],
   "source": [
    "# for in for\n",
    "for num in range(1,11):\n",
    "    # 1 2 3 ........10  print(num)\n",
    "    for num1 in range(5,21):\n",
    "        # 5 6 7 8 9 10  print(num1)\n",
    "        print(num1)\n",
    "    print(num, end= \" \")"
   ]
  },
  {
   "cell_type": "code",
   "execution_count": 18,
   "metadata": {},
   "outputs": [
    {
     "name": "stdout",
     "output_type": "stream",
     "text": [
      "1 \n",
      "1 2 \n",
      "1 2 3 \n",
      "1 2 3 4 \n",
      "1 2 3 4 5 \n"
     ]
    }
   ],
   "source": [
    "# for in for\n",
    "\n",
    "# 1\n",
    "# 1 2\n",
    "# 1 2 3\n",
    "# 1 2 3 4 \n",
    "# 1 2 3 4 5\n",
    "\n",
    "for a in range(1,6): # 1 2 3 4 5  times\n",
    "    for b in range(1,a+1 ) :# no of lines\n",
    "        print(b ,end=\" \" )\n",
    "    print()\n"
   ]
  },
  {
   "cell_type": "code",
   "execution_count": 20,
   "metadata": {},
   "outputs": [
    {
     "name": "stdout",
     "output_type": "stream",
     "text": [
      "1 1\n",
      "1 2 2\n",
      "1 2 3 3\n",
      "1 2 3 4 4\n",
      "1 2 3 4 5 5\n"
     ]
    }
   ],
   "source": [
    "# for in for\n",
    "\n",
    "# 1 1\n",
    "# 1 2 2\n",
    "# 1 2 3 3\n",
    "# 1 2 3 4 4\n",
    "# 1 2 3 4 5 5\n",
    "\n",
    "for a in range(1,6): # 1 2 3 4 5  times\n",
    "    for b in range(1,a+1 ) :# no of lines\n",
    "        print(b ,end=\" \" )\n",
    "    print(a)\n"
   ]
  },
  {
   "cell_type": "code",
   "execution_count": 21,
   "metadata": {},
   "outputs": [
    {
     "name": "stdout",
     "output_type": "stream",
     "text": [
      "1 1\n",
      "2 2 2\n",
      "3 3 3 3\n",
      "4 4 4 4 4\n",
      "5 5 5 5 5 5\n"
     ]
    }
   ],
   "source": [
    "# 1 1\n",
    "# 2 2 2\n",
    "# 3 3 3 3\n",
    "# 4 4 4 4 4\n",
    "# 5 5 5 5 5 5\n",
    "\n",
    "for a in range(1,6): # 1 2 3 4 5  times\n",
    "    for b in range(1,a+1 ) :# no of lines\n",
    "        print(a ,end=\" \" )\n",
    "    print(b)\n"
   ]
  },
  {
   "cell_type": "code",
   "execution_count": 26,
   "metadata": {},
   "outputs": [
    {
     "name": "stdout",
     "output_type": "stream",
     "text": [
      "1 1\n",
      "1\n",
      "1\n",
      "1 2\n",
      "2 2\n",
      "2\n",
      "2\n",
      "1 3\n",
      "2 3\n",
      "3 3\n",
      "3\n",
      "3\n",
      "1 4\n",
      "2 4\n",
      "3 4\n",
      "4 4\n",
      "4\n",
      "4\n",
      "1 5\n",
      "2 5\n",
      "3 5\n",
      "4 5\n",
      "5 5\n",
      "5\n",
      "5\n"
     ]
    }
   ],
   "source": [
    "for a in range(1,6): \n",
    "    for b in range(1,a+1 ) :\n",
    "        print(b ,end=\" \" )\n",
    "        print(a)\n",
    "    print(b)\n",
    "    print(a)\n"
   ]
  },
  {
   "cell_type": "code",
   "execution_count": 1,
   "metadata": {},
   "outputs": [
    {
     "name": "stdout",
     "output_type": "stream",
     "text": [
      "1 1 2 2 3 3 4 4 5 5 6 6 7 7 8 8 9 9 10 10 "
     ]
    }
   ],
   "source": [
    "# for in while\n",
    "\n",
    "z=1\n",
    "\n",
    "for x in range(1,11):\n",
    "    while z<=x:\n",
    "        print(z,end= \" \")\n",
    "        z=z+1 # z+=1\n",
    "#     x=x+1\n",
    "    print(x,end= \" \")"
   ]
  },
  {
   "cell_type": "code",
   "execution_count": 2,
   "metadata": {},
   "outputs": [
    {
     "name": "stdout",
     "output_type": "stream",
     "text": [
      "1 2 2 3 3 4 4 5 5 6 6 7 7 8 8 9 9 10 10 11 "
     ]
    }
   ],
   "source": [
    "# for in while\n",
    "\n",
    "z=1\n",
    "\n",
    "for x in range(1,11):\n",
    "    while z<=x:\n",
    "        print(z,end= \" \")\n",
    "        z=z+1 # z+=1\n",
    "    x=x+1\n",
    "    print(x,end= \" \")"
   ]
  },
  {
   "cell_type": "code",
   "execution_count": 3,
   "metadata": {},
   "outputs": [
    {
     "name": "stdout",
     "output_type": "stream",
     "text": [
      "1 2\n",
      "2 3\n",
      "3 4\n",
      "4 5\n",
      "5 6\n",
      "6 7\n",
      "7 8\n",
      "8 9\n",
      "9 10\n",
      "10 11\n"
     ]
    }
   ],
   "source": [
    "# for in while\n",
    "\n",
    "z=1\n",
    "\n",
    "for x in range(1,11):\n",
    "    while z<=x:\n",
    "        print(z,end= \" \")\n",
    "        z=z+1 # z+=1\n",
    "    x=x+1\n",
    "    print(x)"
   ]
  },
  {
   "cell_type": "code",
   "execution_count": 4,
   "metadata": {},
   "outputs": [
    {
     "name": "stdout",
     "output_type": "stream",
     "text": [
      "1 \n",
      "2 \n",
      "3 \n",
      "4 \n",
      "5 \n",
      "6 \n",
      "7 \n",
      "8 \n",
      "9 \n",
      "10 \n"
     ]
    }
   ],
   "source": [
    "# for in while\n",
    "\n",
    "z=1\n",
    "\n",
    "for x in range(1,11):\n",
    "    while z<=x:\n",
    "        print(z,end= \" \")\n",
    "        z=z+1 # z+=1\n",
    "    x=x+1\n",
    "    print()"
   ]
  },
  {
   "cell_type": "code",
   "execution_count": 1,
   "metadata": {},
   "outputs": [
    {
     "name": "stdout",
     "output_type": "stream",
     "text": [
      "enter a1 value : 1\n",
      "enter a1 value : 100\n",
      "2 3 5 7 11 13 17 19 23 29 31 37 41 43 47 53 59 61 67 71 73 79 83 89 97 "
     ]
    }
   ],
   "source": [
    "# While in while ==>Prime or not\n",
    "a1=int(input(\"enter a1 value : \"))\n",
    "b1=int(input(\"enter a1 value : \"))\n",
    "\n",
    "while a1<=b1:\n",
    "    count=0\n",
    "    num=1\n",
    "    while num<=a1 : # prime or not check then we use condition\n",
    "        if a1%num==0:\n",
    "            count=count+1\n",
    "        num=num+1\n",
    "    if count==2:\n",
    "        print(a1, end= \" \")\n",
    "    a1+=1\n",
    "        "
   ]
  },
  {
   "cell_type": "code",
   "execution_count": 2,
   "metadata": {},
   "outputs": [
    {
     "name": "stdout",
     "output_type": "stream",
     "text": [
      "enter start number 1\n",
      "enter end number 100\n",
      "2 3 5 7 11 13 17 19 23 29 31 37 41 43 47 53 59 61 67 71 73 79 83 89 97 "
     ]
    }
   ],
   "source": [
    "## Prime or not using inner for loop\n",
    "\n",
    "start,end=int(input(\"enter start number \")),int(input(\"enter end number \"))\n",
    "for num in range(start,end+1):\n",
    "    if num>1:\n",
    "        for i in range(2,num):\n",
    "            if(num%i==0):\n",
    "                break\n",
    "        else:\n",
    "            print(num, end=\" \")"
   ]
  },
  {
   "cell_type": "code",
   "execution_count": null,
   "metadata": {},
   "outputs": [],
   "source": []
  },
  {
   "cell_type": "markdown",
   "metadata": {},
   "source": [
    "## Jump Statement\n",
    "\n",
    "- Jump statements are used to skip/jump /exit  the program inside the loop at particular condition\n",
    "\n",
    "# Types of Jump statements\n",
    "\n",
    "- break\n",
    "    - Break is used to terminate that loop or stop the iteration or exit the loop\n",
    "- continue\n",
    "    - after break the remaining statements will be continued\n",
    "- pass-\n",
    "\n",
    "    - \"pass\" is a null operation — when it is executed, nothing happens."
   ]
  },
  {
   "cell_type": "code",
   "execution_count": null,
   "metadata": {},
   "outputs": [
    {
     "name": "stdout",
     "output_type": "stream",
     "text": [
      "\n",
      "Welcome to Python 3.7's help utility!\n",
      "\n",
      "If this is your first time using Python, you should definitely check out\n",
      "the tutorial on the Internet at https://docs.python.org/3.7/tutorial/.\n",
      "\n",
      "Enter the name of any module, keyword, or topic to get help on writing\n",
      "Python programs and using Python modules.  To quit this help utility and\n",
      "return to the interpreter, just type \"quit\".\n",
      "\n",
      "To get a list of available modules, keywords, symbols, or topics, type\n",
      "\"modules\", \"keywords\", \"symbols\", or \"topics\".  Each module also comes\n",
      "with a one-line summary of what it does; to list the modules whose name\n",
      "or summary contain a given string such as \"spam\", type \"modules spam\".\n",
      "\n",
      "help> break\n",
      "The \"break\" statement\n",
      "*********************\n",
      "\n",
      "   break_stmt ::= \"break\"\n",
      "\n",
      "\"break\" may only occur syntactically nested in a \"for\" or \"while\"\n",
      "loop, but not nested in a function or class definition within that\n",
      "loop.\n",
      "\n",
      "It terminates the nearest enclosing loop, skipping the optional \"else\"\n",
      "clause if the loop has one.\n",
      "\n",
      "If a \"for\" loop is terminated by \"break\", the loop control target\n",
      "keeps its current value.\n",
      "\n",
      "When \"break\" passes control out of a \"try\" statement with a \"finally\"\n",
      "clause, that \"finally\" clause is executed before really leaving the\n",
      "loop.\n",
      "\n",
      "Related help topics: while, for\n",
      "\n",
      "help> continue\n",
      "The \"continue\" statement\n",
      "************************\n",
      "\n",
      "   continue_stmt ::= \"continue\"\n",
      "\n",
      "\"continue\" may only occur syntactically nested in a \"for\" or \"while\"\n",
      "loop, but not nested in a function or class definition or \"finally\"\n",
      "clause within that loop.  It continues with the next cycle of the\n",
      "nearest enclosing loop.\n",
      "\n",
      "When \"continue\" passes control out of a \"try\" statement with a\n",
      "\"finally\" clause, that \"finally\" clause is executed before really\n",
      "starting the next loop cycle.\n",
      "\n",
      "Related help topics: while, for\n",
      "\n",
      "help> pass\n",
      "The \"pass\" statement\n",
      "********************\n",
      "\n",
      "   pass_stmt ::= \"pass\"\n",
      "\n",
      "\"pass\" is a null operation — when it is executed, nothing happens. It\n",
      "is useful as a placeholder when a statement is required syntactically,\n",
      "but no code needs to be executed, for example:\n",
      "\n",
      "   def f(arg): pass    # a function that does nothing (yet)\n",
      "\n",
      "   class C: pass       # a class with no methods (yet)\n",
      "\n"
     ]
    }
   ],
   "source": [
    "help()"
   ]
  },
  {
   "cell_type": "code",
   "execution_count": 3,
   "metadata": {},
   "outputs": [
    {
     "name": "stdout",
     "output_type": "stream",
     "text": [
      "V e m u   I n s t i t u t e   o f   T e c h n o l o g y "
     ]
    }
   ],
   "source": [
    "\n",
    "\n",
    "for char in \"Vemu Institute of Technology\":\n",
    "    print(char,end= \" \")\n",
    "        "
   ]
  },
  {
   "cell_type": "code",
   "execution_count": 4,
   "metadata": {},
   "outputs": [
    {
     "name": "stdout",
     "output_type": "stream",
     "text": [
      "V e m u   I "
     ]
    }
   ],
   "source": [
    "# break for loop\n",
    "\n",
    "for char in \"Vemu Institute of Technology\":\n",
    "    if char==\"n\":\n",
    "        break\n",
    "    print(char,end= \" \")\n",
    "        "
   ]
  },
  {
   "cell_type": "code",
   "execution_count": null,
   "metadata": {},
   "outputs": [],
   "source": [
    "# break in while loop\n",
    "\n",
    "var=20\n",
    "while var<10:\n",
    "    print(var)\n",
    "    var+=1\n",
    "    "
   ]
  },
  {
   "cell_type": "code",
   "execution_count": 1,
   "metadata": {},
   "outputs": [
    {
     "name": "stdout",
     "output_type": "stream",
     "text": [
      "20\n",
      "EXecuted\n",
      "19\n",
      "EXecuted\n",
      "18\n",
      "EXecuted\n",
      "17\n",
      "EXecuted\n",
      "16\n",
      "EXecuted\n",
      "15\n",
      "EXecuted\n",
      "14\n",
      "EXecuted\n",
      "13\n",
      "EXecuted\n",
      "12\n",
      "EXecuted\n",
      "11\n"
     ]
    }
   ],
   "source": [
    "# break in while loop\n",
    "\n",
    "var=20\n",
    "while var>0:\n",
    "    print(var)\n",
    "    var-=1\n",
    "    if var==10:\n",
    "        break\n",
    "    print(\"EXecuted\")\n",
    "    "
   ]
  },
  {
   "cell_type": "code",
   "execution_count": 2,
   "metadata": {},
   "outputs": [
    {
     "name": "stdout",
     "output_type": "stream",
     "text": [
      "20\n",
      "19\n",
      "18\n",
      "17\n",
      "16\n",
      "15\n",
      "14\n",
      "13\n",
      "12\n",
      "11\n",
      "EXecuted\n"
     ]
    }
   ],
   "source": [
    "# break in while loop\n",
    "\n",
    "var=20\n",
    "while var>0:\n",
    "    print(var)\n",
    "    var-=1\n",
    "    if var==10:\n",
    "        break\n",
    "print(\"EXecuted\")\n",
    "    "
   ]
  },
  {
   "cell_type": "code",
   "execution_count": 3,
   "metadata": {},
   "outputs": [
    {
     "name": "stdout",
     "output_type": "stream",
     "text": [
      "V e m u   I "
     ]
    }
   ],
   "source": [
    "## Continue\n",
    "# break for loop\n",
    "\n",
    "for char in \"Vemu Institute of Technology\":\n",
    "    if char==\"n\":\n",
    "        break\n",
    "    print(char,end= \" \")\n",
    "        "
   ]
  },
  {
   "cell_type": "code",
   "execution_count": 4,
   "metadata": {},
   "outputs": [
    {
     "name": "stdout",
     "output_type": "stream",
     "text": [
      "V e m u   I s t i t u t e   o f   T e c h o l o g y "
     ]
    }
   ],
   "source": [
    "for char in \"Vemu Institute of Technology\":\n",
    "    if char==\"n\":\n",
    "        continue\n",
    "    print(char,end= \" \")\n",
    "        "
   ]
  },
  {
   "cell_type": "code",
   "execution_count": 8,
   "metadata": {},
   "outputs": [
    {
     "name": "stdout",
     "output_type": "stream",
     "text": [
      "19\n",
      "18\n",
      "17\n",
      "16\n",
      "15\n",
      "14\n",
      "13\n",
      "12\n",
      "11\n",
      "9\n",
      "8\n",
      "7\n",
      "6\n",
      "5\n",
      "4\n",
      "3\n",
      "2\n",
      "1\n",
      "0\n",
      "EXecuted\n"
     ]
    }
   ],
   "source": [
    "# continue in while loop\n",
    "\n",
    "var=20\n",
    "while var>0:\n",
    "    var-=1    \n",
    "    if var==10:\n",
    "        continue\n",
    "    print(var)\n",
    "print(\"EXecuted\")\n",
    "    "
   ]
  },
  {
   "cell_type": "code",
   "execution_count": 11,
   "metadata": {},
   "outputs": [
    {
     "name": "stdout",
     "output_type": "stream",
     "text": [
      "V\n",
      "e\n",
      "m\n",
      "u\n",
      " \n",
      "I\n",
      "Pass statement executed\n",
      "n\n",
      "s\n",
      "t\n",
      "i\n",
      "t\n",
      "u\n",
      "t\n",
      "e\n",
      " \n",
      "o\n",
      "f\n",
      " \n",
      "T\n",
      "e\n",
      "c\n",
      "h\n",
      "Pass statement executed\n",
      "n\n",
      "o\n",
      "l\n",
      "o\n",
      "g\n",
      "y\n"
     ]
    }
   ],
   "source": [
    "## pass\n",
    "\n",
    "for char in \"Vemu Institute of Technology\":\n",
    "    if char==\"n\":\n",
    "        pass\n",
    "        print(\"Pass statement executed\")\n",
    "    print(char)\n",
    " "
   ]
  },
  {
   "cell_type": "code",
   "execution_count": 12,
   "metadata": {},
   "outputs": [
    {
     "name": "stdout",
     "output_type": "stream",
     "text": [
      "enter stringpython programming\n",
      "Pass statement executed\n",
      "p\n",
      "y\n",
      "t\n",
      "h\n",
      "o\n",
      "n\n",
      " \n",
      "Pass statement executed\n",
      "p\n",
      "r\n",
      "o\n",
      "g\n",
      "r\n",
      "a\n",
      "m\n",
      "m\n",
      "i\n",
      "n\n",
      "g\n"
     ]
    }
   ],
   "source": [
    "## pass\n",
    "string=input(\"enter string\")\n",
    "for char in string:\n",
    "    if char==\"p\":\n",
    "        pass\n",
    "        print(\"Pass statement executed\")\n",
    "    print(char)\n",
    " "
   ]
  },
  {
   "cell_type": "code",
   "execution_count": 14,
   "metadata": {},
   "outputs": [
    {
     "name": "stdout",
     "output_type": "stream",
     "text": [
      "19\n",
      "18\n",
      "17\n",
      "16\n",
      "15\n",
      "14\n",
      "13\n",
      "12\n",
      "11\n",
      "10\n",
      "9\n",
      "8\n",
      "7\n",
      "6\n",
      "5\n",
      "4\n",
      "3\n",
      "2\n",
      "1\n",
      "0\n",
      "pass statement executed\n"
     ]
    }
   ],
   "source": [
    "# pass in while loop\n",
    "\n",
    "var=20\n",
    "while var>0:\n",
    "    var-=1       \n",
    "    if var==10:\n",
    "        pass\n",
    "    print(var)\n",
    "print(\"pass statement executed\")\n",
    "\n",
    "    "
   ]
  },
  {
   "cell_type": "code",
   "execution_count": 15,
   "metadata": {},
   "outputs": [
    {
     "name": "stdout",
     "output_type": "stream",
     "text": [
      "enter stringe\n",
      "e\n"
     ]
    }
   ],
   "source": [
    "## pass\n",
    "string=input(\"enter string\")\n",
    "for char in string:\n",
    "    if char==\"p\":\n",
    "        pass\n",
    "    print(string)"
   ]
  },
  {
   "cell_type": "code",
   "execution_count": null,
   "metadata": {},
   "outputs": [],
   "source": []
  },
  {
   "cell_type": "code",
   "execution_count": null,
   "metadata": {},
   "outputs": [],
   "source": []
  },
  {
   "cell_type": "markdown",
   "metadata": {},
   "source": [
    "## Loops Tasks\n",
    "\n",
    "# Task 1\n",
    "\n",
    "# Print vowels only in your college name\n",
    "\n",
    "# vemu institute of technology and science ==> e u i i u e o e o o a i e e\n",
    "# a,e,i,o,u\n",
    "\n",
    "college=input(\"\")\n",
    "vowels=\"aeiou\"\n",
    "\n",
    "`\n",
    "\n",
    "# Task2\n",
    "\n",
    "2x1=2\n",
    "2x2=4\n",
    "....\n",
    "....\n",
    "....\n",
    "....\n",
    "....\n",
    "\n",
    "\n",
    "## Table in while loop"
   ]
  },
  {
   "cell_type": "code",
   "execution_count": null,
   "metadata": {},
   "outputs": [],
   "source": []
  },
  {
   "cell_type": "code",
   "execution_count": 19,
   "metadata": {},
   "outputs": [
    {
     "name": "stdout",
     "output_type": "stream",
     "text": [
      "Enter your collegeVEmu institute of TEchnology and sciencE\n",
      "E u i i u e o E o o a i e E "
     ]
    }
   ],
   "source": [
    "# Task 1\n",
    "\n",
    "# Print vowels only in your college name\n",
    "\n",
    "# vemu institute of technology and science ==> e u i i u e o e o o a i e e\n",
    "# a,e,i,o,u\n",
    "\n",
    "college=input(\"Enter your college\")\n",
    "vowels=\"aeiouAEOIU\"\n",
    "for char in college:\n",
    "    if char in vowels: # membership operator\n",
    "        print(char,end=\" \")"
   ]
  },
  {
   "cell_type": "code",
   "execution_count": 22,
   "metadata": {},
   "outputs": [
    {
     "name": "stdout",
     "output_type": "stream",
     "text": [
      "Enter your collegeABCEDETERTRHjnehurhfkeknmanbHNDV,SBJBDJSHFUHGUSIK\n",
      "A E E E e u e a U U I "
     ]
    }
   ],
   "source": [
    "college=input(\"Enter your college\")\n",
    "vowels=\"aeiouAEOIU\"\n",
    "for char in college:\n",
    "    if char==\"a\" or char==\"e\" or char==\"i\" or char==\"o\" or char==\"u\" or char==\"A\" or char==\"E\" or char==\"I\" or char==\"O\" or char==\"U\":\n",
    "        print(char,end=\" \")"
   ]
  },
  {
   "cell_type": "code",
   "execution_count": null,
   "metadata": {},
   "outputs": [],
   "source": [
    "\n",
    "# Task2\n",
    "\n",
    "2x1=2\n",
    "2x2=4\n",
    "....\n",
    "....\n",
    "....\n",
    "....\n",
    "...."
   ]
  },
  {
   "cell_type": "code",
   "execution_count": null,
   "metadata": {},
   "outputs": [],
   "source": []
  },
  {
   "cell_type": "code",
   "execution_count": 23,
   "metadata": {},
   "outputs": [
    {
     "name": "stdout",
     "output_type": "stream",
     "text": [
      "enter a number5\n",
      "5 x 1 = 5\n",
      "5 x 2 = 10\n",
      "5 x 3 = 15\n",
      "5 x 4 = 20\n",
      "5 x 5 = 25\n",
      "5 x 6 = 30\n",
      "5 x 7 = 35\n",
      "5 x 8 = 40\n",
      "5 x 9 = 45\n",
      "5 x 10 = 50\n"
     ]
    }
   ],
   "source": [
    "n=int(input(\"enter a number\"))\n",
    "if(n>0):\n",
    "    for i in range(1,11):\n",
    "        print (n,'x',i,'=',n*i)\n"
   ]
  },
  {
   "cell_type": "code",
   "execution_count": 1,
   "metadata": {},
   "outputs": [
    {
     "name": "stdout",
     "output_type": "stream",
     "text": [
      "enter table  number10\n",
      "enter start number5\n",
      "enter end number15\n",
      "10 x 5 = 50\n",
      "10 x 6 = 60\n",
      "10 x 7 = 70\n",
      "10 x 8 = 80\n",
      "10 x 9 = 90\n",
      "10 x 10 = 100\n",
      "10 x 11 = 110\n",
      "10 x 12 = 120\n",
      "10 x 13 = 130\n",
      "10 x 14 = 140\n",
      "10 x 15 = 150\n"
     ]
    }
   ],
   "source": [
    "n=int(input(\"enter table  number\"))\n",
    "start=int(input(\"enter start number\"))\n",
    "end=int(input(\"enter end number\"))\n",
    "if(n>0):\n",
    "    for i in range(start,end+1):\n",
    "        print (n,'x',i,'=',n*i)"
   ]
  },
  {
   "cell_type": "code",
   "execution_count": 2,
   "metadata": {},
   "outputs": [
    {
     "name": "stdout",
     "output_type": "stream",
     "text": [
      "enter table number5\n",
      "Multilplication table is\n",
      "5 x 10 = 50\n",
      "5 x 9 = 45\n",
      "5 x 8 = 40\n",
      "5 x 7 = 35\n",
      "5 x 6 = 30\n",
      "5 x 5 = 25\n",
      "5 x 4 = 20\n",
      "5 x 3 = 15\n",
      "5 x 2 = 10\n",
      "5 x 1 = 5\n"
     ]
    }
   ],
   "source": [
    "## table i while loop\n",
    "a=int(input(\"enter table number\"))\n",
    "print(\"Multilplication table is\")\n",
    "c=10\n",
    "while c>=1:\n",
    "    print(a,\"x\",c,\"=\", a*c)\n",
    "    c=c-1"
   ]
  },
  {
   "cell_type": "code",
   "execution_count": 3,
   "metadata": {},
   "outputs": [
    {
     "name": "stdout",
     "output_type": "stream",
     "text": [
      "Enter value of Table 9\n",
      "Iterations Required 20\n",
      "9 x 1 = 9\n",
      "9 x 2 = 18\n",
      "9 x 3 = 27\n",
      "9 x 4 = 36\n",
      "9 x 5 = 45\n",
      "9 x 6 = 54\n",
      "9 x 7 = 63\n",
      "9 x 8 = 72\n",
      "9 x 9 = 81\n",
      "9 x 10 = 90\n",
      "9 x 11 = 99\n",
      "9 x 12 = 108\n",
      "9 x 13 = 117\n",
      "9 x 14 = 126\n",
      "9 x 15 = 135\n",
      "9 x 16 = 144\n",
      "9 x 17 = 153\n",
      "9 x 18 = 162\n",
      "9 x 19 = 171\n",
      "9 x 20 = 180\n"
     ]
    }
   ],
   "source": [
    "x = int(input(\"Enter value of Table \"))\n",
    "y = int(input(\"Iterations Required \"))\n",
    "for i in range(y):\n",
    "    print(str(x) + ' x ' + str(i+1) + ' = ' + str(x * (i+1)))\n"
   ]
  },
  {
   "cell_type": "code",
   "execution_count": null,
   "metadata": {},
   "outputs": [],
   "source": []
  }
 ],
 "metadata": {
  "kernelspec": {
   "display_name": "Python 3",
   "language": "python",
   "name": "python3"
  },
  "language_info": {
   "codemirror_mode": {
    "name": "ipython",
    "version": 3
   },
   "file_extension": ".py",
   "mimetype": "text/x-python",
   "name": "python",
   "nbconvert_exporter": "python",
   "pygments_lexer": "ipython3",
   "version": "3.7.3"
  }
 },
 "nbformat": 4,
 "nbformat_minor": 2
}
