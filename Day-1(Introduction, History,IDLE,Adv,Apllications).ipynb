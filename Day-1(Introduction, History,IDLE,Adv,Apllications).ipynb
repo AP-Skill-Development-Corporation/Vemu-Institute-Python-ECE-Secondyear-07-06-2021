{
 "cells": [
  {
   "cell_type": "markdown",
   "metadata": {},
   "source": [
    "## Good Afternoon Guys\n",
    "### Please Edit your details as a Following Format\n",
    "\n",
    "## Instructions for attendance\n",
    "- Everyone should compulsory follow the below instruction in order to get the attendance --> Certificate\n",
    "\n",
    "- Login format rollnumber-name-college\n",
    "\n",
    "- Don't give spaces in roll number or shorcut of your roll number\n",
    "\n",
    "- Don't give spaces between rollnumber and name (only - single minus or hyphen character)\n",
    "\n",
    "- Make sure roll number should match with the registered roll number\n",
    "\n",
    "- Required attendance minimum 120 minutes out of 150 minutes session\n",
    "\n",
    "- Attendance sheet reference purpose only(make sure to follow above instructions to get present) → [clickHere]\n"
   ]
  },
  {
   "cell_type": "markdown",
   "metadata": {},
   "source": [
    "### What is python ?\n",
    "\n",
    "### Python is a programming language.....\n",
    "\n",
    "#### programming language-->Mediator between  h/w and s/w\n",
    "- software which is provided some set of pre defined instructionsto develop applications ...\n",
    "    -Languages-->low level :-(ex:machine language,assembly languages)\n",
    "        - non portal\n",
    "        - h/w dependent\n",
    "            - and--> high level:-(ex:C,c++,java,Python)\n",
    "\t\t\t- We can write a program\n",
    "\t\t\t- portal language\n",
    "\n",
    "- Python is created by ***GUIDO VAN ROSSUM*** in 1980's release by 1991\n",
    "- 1.Python is a High level programmimg language\n",
    "- 2.Object oriented programming language\n",
    "    - a.classes(Collection of objects,methods,variables..., It is a blueprint)\n",
    "\t- b.objects (state,behaviour)\n",
    "\t- c.Inheritance(Parent ,child relation ship,attributes ,methods)\n",
    "\t- d.Data abstraction ()\n",
    "\t- e.Encapsulation(code ,data is in same place)\n",
    "- 3.Procedural Programming language\n",
    "- 4.functional Programming language\t"
   ]
  },
  {
   "cell_type": "markdown",
   "metadata": {},
   "source": [
    "## History\n",
    "- conceived in 1980's\n",
    "- first versoion(0.9.0) - feb 1991 - [expection handling,functions , data types]\n",
    "- version 1.0 - 1994- [functions - lambda ,map,reduce,]\n",
    "- version 2.0 -oct-2000-[list comprehension]\n",
    "- after 8 years version 3.0 - [Python emphasis ,modules]"
   ]
  },
  {
   "cell_type": "markdown",
   "metadata": {},
   "source": [
    "### Advances in Python:\n",
    "\n",
    "- simple\n",
    "- Interpreted language\n",
    "- free and open source\n",
    "- Obj\n",
    "- Library\n",
    "- Portable\n"
   ]
  },
  {
   "cell_type": "markdown",
   "metadata": {},
   "source": [
    "## Applications:\n",
    "- console based applications(Ipython)\n",
    "- web applications\n",
    "- ImagesVpython,Gogh\n",
    "- NASA\n",
    "- Data analysis , Machine Learning"
   ]
  },
  {
   "cell_type": "code",
   "execution_count": null,
   "metadata": {},
   "outputs": [],
   "source": []
  }
 ],
 "metadata": {
  "kernelspec": {
   "display_name": "Python 3",
   "language": "python",
   "name": "python3"
  },
  "language_info": {
   "codemirror_mode": {
    "name": "ipython",
    "version": 3
   },
   "file_extension": ".py",
   "mimetype": "text/x-python",
   "name": "python",
   "nbconvert_exporter": "python",
   "pygments_lexer": "ipython3",
   "version": "3.7.3"
  }
 },
 "nbformat": 4,
 "nbformat_minor": 2
}
