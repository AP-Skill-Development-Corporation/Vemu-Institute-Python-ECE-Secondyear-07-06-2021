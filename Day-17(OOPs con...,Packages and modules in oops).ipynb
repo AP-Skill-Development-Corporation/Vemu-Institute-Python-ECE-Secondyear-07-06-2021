{
 "cells": [
  {
   "cell_type": "markdown",
   "metadata": {},
   "source": [
    "## constructors\n",
    "- Constructor is a special type of method (function within a class)\n",
    "- It is used to initilized the instatnce member of a class\n",
    "- In python for creating constructors we will use __init__(self)\n",
    "- In constructor **self** is parameter finds the current reference object\n",
    "\n",
    "### Syn-\n",
    "\n",
    "- class classname:\n",
    "    def __init__(self): # here self is a default parameter  --> \"self\"\n",
    "    \n",
    "    def __init__(a): # here a is a default parameter\n",
    "    \n",
    "    def __init__(self,a,b,c,...) # first variable is a default parameter ---> \"self\"\n",
    "    \n",
    "    def __init__(a,self,b,c,d..) # here first variable   is a default parameter  ---> \"a\"\n",
    "\n",
    "\n"
   ]
  },
  {
   "cell_type": "code",
   "execution_count": 8,
   "metadata": {},
   "outputs": [],
   "source": [
    "class comp:\n",
    "    def __init__(self):\n",
    "        print(\" I am __init__ constructor\")\n",
    "    def config(self):\n",
    "        print(\"i3\",\"4gb\",\"6gb\")\n",
    "        \n"
   ]
  },
  {
   "cell_type": "code",
   "execution_count": 9,
   "metadata": {},
   "outputs": [
    {
     "data": {
      "text/plain": [
       "<function __main__.comp.config(self)>"
      ]
     },
     "execution_count": 9,
     "metadata": {},
     "output_type": "execute_result"
    }
   ],
   "source": [
    "obj=comp\n",
    "obj.config"
   ]
  },
  {
   "cell_type": "code",
   "execution_count": 10,
   "metadata": {},
   "outputs": [
    {
     "ename": "TypeError",
     "evalue": "config() missing 1 required positional argument: 'self'",
     "output_type": "error",
     "traceback": [
      "\u001b[1;31m---------------------------------------------------------------------------\u001b[0m",
      "\u001b[1;31mTypeError\u001b[0m                                 Traceback (most recent call last)",
      "\u001b[1;32m<ipython-input-10-8183b99ddd8a>\u001b[0m in \u001b[0;36m<module>\u001b[1;34m\u001b[0m\n\u001b[0;32m      1\u001b[0m \u001b[0mobj\u001b[0m\u001b[1;33m=\u001b[0m\u001b[0mcomp\u001b[0m\u001b[1;33m\u001b[0m\u001b[1;33m\u001b[0m\u001b[0m\n\u001b[1;32m----> 2\u001b[1;33m \u001b[0mobj\u001b[0m\u001b[1;33m.\u001b[0m\u001b[0mconfig\u001b[0m\u001b[1;33m(\u001b[0m\u001b[1;33m)\u001b[0m\u001b[1;33m\u001b[0m\u001b[1;33m\u001b[0m\u001b[0m\n\u001b[0m",
      "\u001b[1;31mTypeError\u001b[0m: config() missing 1 required positional argument: 'self'"
     ]
    }
   ],
   "source": [
    "obj=comp\n",
    "obj.config()"
   ]
  },
  {
   "cell_type": "code",
   "execution_count": 11,
   "metadata": {},
   "outputs": [
    {
     "name": "stdout",
     "output_type": "stream",
     "text": [
      "i3 4gb 6gb\n"
     ]
    }
   ],
   "source": [
    "obj=comp  # without pranthesis\n",
    "obj.config(9)"
   ]
  },
  {
   "cell_type": "code",
   "execution_count": 12,
   "metadata": {},
   "outputs": [
    {
     "name": "stdout",
     "output_type": "stream",
     "text": [
      "i3 4gb 6gb\n"
     ]
    }
   ],
   "source": [
    "obj=comp\n",
    "obj.config(\"conf\")"
   ]
  },
  {
   "cell_type": "code",
   "execution_count": 13,
   "metadata": {},
   "outputs": [
    {
     "ename": "TypeError",
     "evalue": "__init__() missing 1 required positional argument: 'self'",
     "output_type": "error",
     "traceback": [
      "\u001b[1;31m---------------------------------------------------------------------------\u001b[0m",
      "\u001b[1;31mTypeError\u001b[0m                                 Traceback (most recent call last)",
      "\u001b[1;32m<ipython-input-13-cd662de47e0f>\u001b[0m in \u001b[0;36m<module>\u001b[1;34m\u001b[0m\n\u001b[1;32m----> 1\u001b[1;33m \u001b[0mobj\u001b[0m\u001b[1;33m.\u001b[0m\u001b[0m__init__\u001b[0m\u001b[1;33m(\u001b[0m\u001b[1;33m)\u001b[0m\u001b[1;33m\u001b[0m\u001b[1;33m\u001b[0m\u001b[0m\n\u001b[0m",
      "\u001b[1;31mTypeError\u001b[0m: __init__() missing 1 required positional argument: 'self'"
     ]
    }
   ],
   "source": [
    "obj.__init__()"
   ]
  },
  {
   "cell_type": "code",
   "execution_count": 14,
   "metadata": {},
   "outputs": [],
   "source": [
    "class comp:\n",
    "    def __init__(self):\n",
    "        print(\" I am __init__ constructor\")\n",
    "    def config(self):\n",
    "        print(\"i3\",\"4gb\",\"6gb\")\n",
    "        "
   ]
  },
  {
   "cell_type": "code",
   "execution_count": 20,
   "metadata": {},
   "outputs": [
    {
     "name": "stdout",
     "output_type": "stream",
     "text": [
      " I am __init__ constructor\n"
     ]
    }
   ],
   "source": [
    " obj1=comp()  # class with paranthesis"
   ]
  },
  {
   "cell_type": "code",
   "execution_count": 17,
   "metadata": {},
   "outputs": [
    {
     "data": {
      "text/plain": [
       "<function __main__.comp.config(self)>"
      ]
     },
     "execution_count": 17,
     "metadata": {},
     "output_type": "execute_result"
    }
   ],
   "source": [
    "obj1.config()"
   ]
  },
  {
   "cell_type": "code",
   "execution_count": 19,
   "metadata": {},
   "outputs": [
    {
     "ename": "TypeError",
     "evalue": "__init__() missing 1 required positional argument: 'self'",
     "output_type": "error",
     "traceback": [
      "\u001b[1;31m---------------------------------------------------------------------------\u001b[0m",
      "\u001b[1;31mTypeError\u001b[0m                                 Traceback (most recent call last)",
      "\u001b[1;32m<ipython-input-19-031b874e69a5>\u001b[0m in \u001b[0;36m<module>\u001b[1;34m\u001b[0m\n\u001b[1;32m----> 1\u001b[1;33m \u001b[0mobj1\u001b[0m\u001b[1;33m.\u001b[0m\u001b[0m__init__\u001b[0m\u001b[1;33m(\u001b[0m\u001b[1;33m)\u001b[0m\u001b[1;33m\u001b[0m\u001b[1;33m\u001b[0m\u001b[0m\n\u001b[0m",
      "\u001b[1;31mTypeError\u001b[0m: __init__() missing 1 required positional argument: 'self'"
     ]
    }
   ],
   "source": [
    "obj1.__init__()"
   ]
  },
  {
   "cell_type": "code",
   "execution_count": 21,
   "metadata": {},
   "outputs": [
    {
     "data": {
      "text/plain": [
       "['__class__',\n",
       " '__delattr__',\n",
       " '__dict__',\n",
       " '__dir__',\n",
       " '__doc__',\n",
       " '__eq__',\n",
       " '__format__',\n",
       " '__ge__',\n",
       " '__getattribute__',\n",
       " '__gt__',\n",
       " '__hash__',\n",
       " '__init__',\n",
       " '__init_subclass__',\n",
       " '__le__',\n",
       " '__lt__',\n",
       " '__module__',\n",
       " '__ne__',\n",
       " '__new__',\n",
       " '__reduce__',\n",
       " '__reduce_ex__',\n",
       " '__repr__',\n",
       " '__setattr__',\n",
       " '__sizeof__',\n",
       " '__str__',\n",
       " '__subclasshook__',\n",
       " '__weakref__',\n",
       " 'config']"
      ]
     },
     "execution_count": 21,
     "metadata": {},
     "output_type": "execute_result"
    }
   ],
   "source": [
    "dir(comp)"
   ]
  },
  {
   "cell_type": "code",
   "execution_count": 23,
   "metadata": {},
   "outputs": [
    {
     "name": "stdout",
     "output_type": "stream",
     "text": [
      "1 i3 4gb\n"
     ]
    }
   ],
   "source": [
    "# __init__(self,a,b)\n",
    "\n",
    "class comp1:\n",
    "    def __init__(self,cpu,ram):\n",
    "        self.cpu=cpu\n",
    "        self.ram=ram\n",
    "        \n",
    "    def config(self,a):\n",
    "        print(a,self.cpu,self.ram)\n",
    "        \n",
    "        \n",
    "myobj=comp1(\"i3\",\"4gb\")\n",
    "myobj.config(1)\n",
    "        \n",
    "        "
   ]
  },
  {
   "cell_type": "code",
   "execution_count": 24,
   "metadata": {},
   "outputs": [
    {
     "name": "stdout",
     "output_type": "stream",
     "text": [
      "hi i5 1TB\n"
     ]
    }
   ],
   "source": [
    "myobj=comp1(\"i5\",\"1TB\")\n",
    "myobj.config(\"hi\")\n",
    "        "
   ]
  },
  {
   "cell_type": "code",
   "execution_count": 25,
   "metadata": {},
   "outputs": [],
   "source": [
    "## __init__(a,b,self)\n",
    "\n",
    "class comp2:\n",
    "    def __init__(cpu,ram,self):\n",
    "        cpu.ram=ram\n",
    "        cpu.self=self\n",
    "    def config(cpu,a):\n",
    "        print(a,cpu.ram,cpu.self)"
   ]
  },
  {
   "cell_type": "code",
   "execution_count": 26,
   "metadata": {},
   "outputs": [
    {
     "name": "stdout",
     "output_type": "stream",
     "text": [
      "default i6 1TB\n"
     ]
    }
   ],
   "source": [
    "myobj=comp2(\"i6\",\"1TB\")\n",
    "myobj.config(\"default\")"
   ]
  },
  {
   "cell_type": "code",
   "execution_count": 37,
   "metadata": {},
   "outputs": [],
   "source": [
    "# calc\n",
    "\n",
    "class calc:\n",
    "    def __init__(xyz,var1,var2):\n",
    "        xyz.var1=var1\n",
    "        xyz.var2=var2\n",
    "        \n",
    "    def display(xyz):\n",
    "        print(xyz.var1)\n",
    "        print(xyz.var2)\n",
    "        \n",
    "    def add(xyz,var3):\n",
    "        print(xyz.var1+ xyz.var2 +var3)\n",
    "        \n",
    "    def sub(xyz):\n",
    "        print(xyz.var1-xyz.var2)\n",
    "        \n",
    "    def mul(xyz,var4,var5):\n",
    "        print(var4*var5)"
   ]
  },
  {
   "cell_type": "code",
   "execution_count": 38,
   "metadata": {},
   "outputs": [],
   "source": [
    "obj3=calc(8,9)"
   ]
  },
  {
   "cell_type": "code",
   "execution_count": 33,
   "metadata": {},
   "outputs": [
    {
     "name": "stdout",
     "output_type": "stream",
     "text": [
      "8\n",
      "9\n"
     ]
    }
   ],
   "source": [
    "obj3.display()"
   ]
  },
  {
   "cell_type": "code",
   "execution_count": 34,
   "metadata": {},
   "outputs": [
    {
     "name": "stdout",
     "output_type": "stream",
     "text": [
      "18\n"
     ]
    }
   ],
   "source": [
    "obj3.add(1)"
   ]
  },
  {
   "cell_type": "code",
   "execution_count": 35,
   "metadata": {},
   "outputs": [
    {
     "name": "stdout",
     "output_type": "stream",
     "text": [
      "-1\n"
     ]
    }
   ],
   "source": [
    "obj3.sub()"
   ]
  },
  {
   "cell_type": "code",
   "execution_count": 40,
   "metadata": {},
   "outputs": [
    {
     "name": "stdout",
     "output_type": "stream",
     "text": [
      "8\n"
     ]
    }
   ],
   "source": [
    "obj3.mul(4,2)"
   ]
  },
  {
   "cell_type": "markdown",
   "metadata": {},
   "source": [
    "## Inheritance:\n",
    "\n",
    "- we can create a class which is uses al1 the properties and behaviour of another class\n",
    "- new class is called a child/derived class/sub class\n",
    "- already existed class is called parent class/base class/super class\n",
    "- Adv\n",
    "    - reusuabulity of the code\n",
    "    \n",
    "    \n",
    " - syn:\n",
    " \n",
    " - Parent:\n",
    " \n",
    "     - class Parent_class():\n",
    "- Child:\n",
    "     - class Child_class(Parent_class)"
   ]
  },
  {
   "cell_type": "markdown",
   "metadata": {},
   "source": [
    "![Types](inheritance2.jpg)"
   ]
  },
  {
   "cell_type": "markdown",
   "metadata": {},
   "source": [
    "# Types of Inheritances\n",
    "\n",
    "![Inheritance_types](Inheritance_types.jpg)"
   ]
  },
  {
   "cell_type": "code",
   "execution_count": null,
   "metadata": {},
   "outputs": [],
   "source": [
    "# syn: Single Inheritance\n",
    "\n",
    "class Parent_class():\n",
    "    pass\n",
    "class Child(Parent_class):\n",
    "    pass"
   ]
  },
  {
   "cell_type": "code",
   "execution_count": 43,
   "metadata": {},
   "outputs": [],
   "source": [
    "# eg:\n",
    "\n",
    "class Parent():\n",
    "    a,b=10,20\n",
    "    def display():\n",
    "        print(\"I am parent class\")\n",
    "        \n",
    "        \n",
    "class Child(Parent):\n",
    "    c,d=30,40\n",
    "    def show():\n",
    "        print(\"I am from child class\")\n"
   ]
  },
  {
   "cell_type": "code",
   "execution_count": 50,
   "metadata": {},
   "outputs": [
    {
     "name": "stdout",
     "output_type": "stream",
     "text": [
      "10\n",
      "20\n",
      "I am parent class\n",
      "None\n"
     ]
    },
    {
     "ename": "AttributeError",
     "evalue": "type object 'Parent' has no attribute 'c'",
     "output_type": "error",
     "traceback": [
      "\u001b[1;31m---------------------------------------------------------------------------\u001b[0m",
      "\u001b[1;31mAttributeError\u001b[0m                            Traceback (most recent call last)",
      "\u001b[1;32m<ipython-input-50-3f67d7d8760f>\u001b[0m in \u001b[0;36m<module>\u001b[1;34m\u001b[0m\n\u001b[0;32m      4\u001b[0m \u001b[0mprint\u001b[0m\u001b[1;33m(\u001b[0m\u001b[0mparentobj\u001b[0m\u001b[1;33m.\u001b[0m\u001b[0mdisplay\u001b[0m\u001b[1;33m(\u001b[0m\u001b[1;33m)\u001b[0m\u001b[1;33m)\u001b[0m\u001b[1;33m\u001b[0m\u001b[1;33m\u001b[0m\u001b[0m\n\u001b[0;32m      5\u001b[0m \u001b[1;33m\u001b[0m\u001b[0m\n\u001b[1;32m----> 6\u001b[1;33m \u001b[0mprint\u001b[0m\u001b[1;33m(\u001b[0m\u001b[0mparentobj\u001b[0m\u001b[1;33m.\u001b[0m\u001b[0mc\u001b[0m\u001b[1;33m)\u001b[0m\u001b[1;33m\u001b[0m\u001b[1;33m\u001b[0m\u001b[0m\n\u001b[0m\u001b[0;32m      7\u001b[0m \u001b[0mprint\u001b[0m\u001b[1;33m(\u001b[0m\u001b[0mparentobj\u001b[0m\u001b[1;33m.\u001b[0m\u001b[0md\u001b[0m\u001b[1;33m)\u001b[0m\u001b[1;33m\u001b[0m\u001b[1;33m\u001b[0m\u001b[0m\n\u001b[0;32m      8\u001b[0m \u001b[0mprint\u001b[0m\u001b[1;33m(\u001b[0m\u001b[0mparentobj\u001b[0m\u001b[1;33m.\u001b[0m\u001b[0mshow\u001b[0m\u001b[1;33m(\u001b[0m\u001b[1;33m)\u001b[0m\u001b[1;33m)\u001b[0m\u001b[1;33m\u001b[0m\u001b[1;33m\u001b[0m\u001b[0m\n",
      "\u001b[1;31mAttributeError\u001b[0m: type object 'Parent' has no attribute 'c'"
     ]
    }
   ],
   "source": [
    "parentobj=Parent\n",
    "print(parentobj.a)\n",
    "print(parentobj.b)\n",
    "print(parentobj.display())\n",
    "\n",
    "print(parentobj.c)\n",
    "print(parentobj.d)\n",
    "print(parentobj.show())"
   ]
  },
  {
   "cell_type": "code",
   "execution_count": 48,
   "metadata": {},
   "outputs": [],
   "source": [
    "childobj=Child"
   ]
  },
  {
   "cell_type": "code",
   "execution_count": 49,
   "metadata": {},
   "outputs": [
    {
     "name": "stdout",
     "output_type": "stream",
     "text": [
      "10\n",
      "20\n",
      "I am parent class\n",
      "None\n",
      "30\n",
      "40\n",
      "I am from child class\n",
      "None\n"
     ]
    }
   ],
   "source": [
    "print(childobj.a)\n",
    "print(childobj.b)\n",
    "print(childobj.display())\n",
    "\n",
    "print(childobj.c)\n",
    "print(childobj.d)\n",
    "print(childobj.show())"
   ]
  },
  {
   "cell_type": "code",
   "execution_count": null,
   "metadata": {},
   "outputs": [],
   "source": []
  },
  {
   "cell_type": "code",
   "execution_count": null,
   "metadata": {},
   "outputs": [],
   "source": [
    "# Syn : Multi Level\n",
    "\n",
    "\n",
    "class GrandParent():\n",
    "    pass\n",
    "class Parent(GrandParent):\n",
    "    pass\n",
    "class child(Parent):\n",
    "    pass"
   ]
  },
  {
   "cell_type": "code",
   "execution_count": 56,
   "metadata": {},
   "outputs": [],
   "source": [
    "# Multi Level(GF.F,Child)\n",
    "\n",
    "class GF():\n",
    "    def a():\n",
    "        print(\"I am GF\")\n",
    "class F(GF):\n",
    "    def b():\n",
    "        print(\"I am F\")\n",
    "class child(F):\n",
    "    def c():\n",
    "        print(\"I am child\")\n",
    "        "
   ]
  },
  {
   "cell_type": "code",
   "execution_count": 58,
   "metadata": {},
   "outputs": [
    {
     "name": "stdout",
     "output_type": "stream",
     "text": [
      "I am child\n",
      "I am F\n",
      "I am GF\n"
     ]
    }
   ],
   "source": [
    "ch_obj=child\n",
    "ch_obj.c()\n",
    "ch_obj.b()\n",
    "ch_obj.a()"
   ]
  },
  {
   "cell_type": "code",
   "execution_count": 59,
   "metadata": {},
   "outputs": [
    {
     "name": "stdout",
     "output_type": "stream",
     "text": [
      "I am GF\n"
     ]
    },
    {
     "ename": "AttributeError",
     "evalue": "type object 'GF' has no attribute 'c'",
     "output_type": "error",
     "traceback": [
      "\u001b[1;31m---------------------------------------------------------------------------\u001b[0m",
      "\u001b[1;31mAttributeError\u001b[0m                            Traceback (most recent call last)",
      "\u001b[1;32m<ipython-input-59-f3c38a133459>\u001b[0m in \u001b[0;36m<module>\u001b[1;34m\u001b[0m\n\u001b[0;32m      1\u001b[0m \u001b[0mgf_obj\u001b[0m\u001b[1;33m=\u001b[0m\u001b[0mGF\u001b[0m\u001b[1;33m\u001b[0m\u001b[1;33m\u001b[0m\u001b[0m\n\u001b[0;32m      2\u001b[0m \u001b[0mgf_obj\u001b[0m\u001b[1;33m.\u001b[0m\u001b[0ma\u001b[0m\u001b[1;33m(\u001b[0m\u001b[1;33m)\u001b[0m\u001b[1;33m\u001b[0m\u001b[1;33m\u001b[0m\u001b[0m\n\u001b[1;32m----> 3\u001b[1;33m \u001b[0mgf_obj\u001b[0m\u001b[1;33m.\u001b[0m\u001b[0mc\u001b[0m\u001b[1;33m(\u001b[0m\u001b[1;33m)\u001b[0m\u001b[1;33m\u001b[0m\u001b[1;33m\u001b[0m\u001b[0m\n\u001b[0m\u001b[0;32m      4\u001b[0m \u001b[0mgf_obj\u001b[0m\u001b[1;33m.\u001b[0m\u001b[0mb\u001b[0m\u001b[1;33m(\u001b[0m\u001b[1;33m)\u001b[0m\u001b[1;33m\u001b[0m\u001b[1;33m\u001b[0m\u001b[0m\n",
      "\u001b[1;31mAttributeError\u001b[0m: type object 'GF' has no attribute 'c'"
     ]
    }
   ],
   "source": [
    "gf_obj=GF\n",
    "gf_obj.a()\n",
    "gf_obj.c()\n",
    "gf_obj.b()\n"
   ]
  },
  {
   "cell_type": "code",
   "execution_count": 60,
   "metadata": {},
   "outputs": [
    {
     "name": "stdout",
     "output_type": "stream",
     "text": [
      "I am F\n",
      "I am GF\n"
     ]
    },
    {
     "ename": "AttributeError",
     "evalue": "type object 'F' has no attribute 'c'",
     "output_type": "error",
     "traceback": [
      "\u001b[1;31m---------------------------------------------------------------------------\u001b[0m",
      "\u001b[1;31mAttributeError\u001b[0m                            Traceback (most recent call last)",
      "\u001b[1;32m<ipython-input-60-d28b8498e94b>\u001b[0m in \u001b[0;36m<module>\u001b[1;34m\u001b[0m\n\u001b[0;32m      2\u001b[0m \u001b[0mf_obj\u001b[0m\u001b[1;33m.\u001b[0m\u001b[0mb\u001b[0m\u001b[1;33m(\u001b[0m\u001b[1;33m)\u001b[0m\u001b[1;33m\u001b[0m\u001b[1;33m\u001b[0m\u001b[0m\n\u001b[0;32m      3\u001b[0m \u001b[0mf_obj\u001b[0m\u001b[1;33m.\u001b[0m\u001b[0ma\u001b[0m\u001b[1;33m(\u001b[0m\u001b[1;33m)\u001b[0m\u001b[1;33m\u001b[0m\u001b[1;33m\u001b[0m\u001b[0m\n\u001b[1;32m----> 4\u001b[1;33m \u001b[0mf_obj\u001b[0m\u001b[1;33m.\u001b[0m\u001b[0mc\u001b[0m\u001b[1;33m(\u001b[0m\u001b[1;33m)\u001b[0m\u001b[1;33m\u001b[0m\u001b[1;33m\u001b[0m\u001b[0m\n\u001b[0m",
      "\u001b[1;31mAttributeError\u001b[0m: type object 'F' has no attribute 'c'"
     ]
    }
   ],
   "source": [
    "f_obj=F\n",
    "f_obj.b()\n",
    "f_obj.a()\n",
    "f_obj.c()\n"
   ]
  },
  {
   "cell_type": "code",
   "execution_count": null,
   "metadata": {},
   "outputs": [],
   "source": [
    "## Hierarichal\n",
    "class Parent():\n",
    "    pass\n",
    "class child1(Parent):\n",
    "    pass\n",
    "class child2(Parent):"
   ]
  },
  {
   "cell_type": "code",
   "execution_count": null,
   "metadata": {},
   "outputs": [],
   "source": [
    "## Multiple \n",
    "\n",
    "class Parent1():\n",
    "    pass\n",
    "class Parent2():\n",
    "    pass\n",
    "class child(Parent1,Parent2):"
   ]
  },
  {
   "cell_type": "code",
   "execution_count": 51,
   "metadata": {},
   "outputs": [],
   "source": [
    "## Multiple(2 parents,1 child)\n",
    "\n",
    "class Father():\n",
    "    def display1():\n",
    "        print(\"I am father class\")\n",
    "class Mother():\n",
    "    def display2():\n",
    "        print(\"I am from mother class\")\n",
    "        \n",
    "        \n",
    "class child(Father,Mother):\n",
    "    def show():\n",
    "        print(\"I am child class\")"
   ]
  },
  {
   "cell_type": "code",
   "execution_count": 52,
   "metadata": {},
   "outputs": [
    {
     "name": "stdout",
     "output_type": "stream",
     "text": [
      "I am father class\n",
      "I am from mother class\n",
      "I am child class\n"
     ]
    }
   ],
   "source": [
    "child_obj=child\n",
    "child_obj.display1()\n",
    "child_obj.display2()\n",
    "child_obj.show()"
   ]
  },
  {
   "cell_type": "code",
   "execution_count": 53,
   "metadata": {},
   "outputs": [
    {
     "name": "stdout",
     "output_type": "stream",
     "text": [
      "I am father class\n"
     ]
    },
    {
     "ename": "AttributeError",
     "evalue": "type object 'Father' has no attribute 'display2'",
     "output_type": "error",
     "traceback": [
      "\u001b[1;31m---------------------------------------------------------------------------\u001b[0m",
      "\u001b[1;31mAttributeError\u001b[0m                            Traceback (most recent call last)",
      "\u001b[1;32m<ipython-input-53-d7754e8337a3>\u001b[0m in \u001b[0;36m<module>\u001b[1;34m\u001b[0m\n\u001b[0;32m      1\u001b[0m \u001b[0mp_obj\u001b[0m\u001b[1;33m=\u001b[0m\u001b[0mFather\u001b[0m\u001b[1;33m\u001b[0m\u001b[1;33m\u001b[0m\u001b[0m\n\u001b[0;32m      2\u001b[0m \u001b[0mp_obj\u001b[0m\u001b[1;33m.\u001b[0m\u001b[0mdisplay1\u001b[0m\u001b[1;33m(\u001b[0m\u001b[1;33m)\u001b[0m\u001b[1;33m\u001b[0m\u001b[1;33m\u001b[0m\u001b[0m\n\u001b[1;32m----> 3\u001b[1;33m \u001b[0mp_obj\u001b[0m\u001b[1;33m.\u001b[0m\u001b[0mdisplay2\u001b[0m\u001b[1;33m(\u001b[0m\u001b[1;33m)\u001b[0m\u001b[1;33m\u001b[0m\u001b[1;33m\u001b[0m\u001b[0m\n\u001b[0m\u001b[0;32m      4\u001b[0m \u001b[0mp_obj\u001b[0m\u001b[1;33m.\u001b[0m\u001b[0mshow\u001b[0m\u001b[1;33m(\u001b[0m\u001b[1;33m)\u001b[0m\u001b[1;33m\u001b[0m\u001b[1;33m\u001b[0m\u001b[0m\n",
      "\u001b[1;31mAttributeError\u001b[0m: type object 'Father' has no attribute 'display2'"
     ]
    }
   ],
   "source": [
    "p_obj=Father\n",
    "p_obj.display1()\n",
    "p_obj.display2()\n",
    "p_obj.show()"
   ]
  },
  {
   "cell_type": "code",
   "execution_count": 55,
   "metadata": {},
   "outputs": [
    {
     "name": "stdout",
     "output_type": "stream",
     "text": [
      "I am from mother class\n"
     ]
    },
    {
     "ename": "AttributeError",
     "evalue": "type object 'Mother' has no attribute 'display1'",
     "output_type": "error",
     "traceback": [
      "\u001b[1;31m---------------------------------------------------------------------------\u001b[0m",
      "\u001b[1;31mAttributeError\u001b[0m                            Traceback (most recent call last)",
      "\u001b[1;32m<ipython-input-55-c42c42839210>\u001b[0m in \u001b[0;36m<module>\u001b[1;34m\u001b[0m\n\u001b[0;32m      1\u001b[0m \u001b[0mm_obj\u001b[0m\u001b[1;33m=\u001b[0m\u001b[0mMother\u001b[0m\u001b[1;33m\u001b[0m\u001b[1;33m\u001b[0m\u001b[0m\n\u001b[0;32m      2\u001b[0m \u001b[0mm_obj\u001b[0m\u001b[1;33m.\u001b[0m\u001b[0mdisplay2\u001b[0m\u001b[1;33m(\u001b[0m\u001b[1;33m)\u001b[0m\u001b[1;33m\u001b[0m\u001b[1;33m\u001b[0m\u001b[0m\n\u001b[1;32m----> 3\u001b[1;33m \u001b[0mm_obj\u001b[0m\u001b[1;33m.\u001b[0m\u001b[0mdisplay1\u001b[0m\u001b[1;33m(\u001b[0m\u001b[1;33m)\u001b[0m\u001b[1;33m\u001b[0m\u001b[1;33m\u001b[0m\u001b[0m\n\u001b[0m\u001b[0;32m      4\u001b[0m \u001b[0mm_obj\u001b[0m\u001b[1;33m.\u001b[0m\u001b[0mshow\u001b[0m\u001b[1;33m(\u001b[0m\u001b[1;33m)\u001b[0m\u001b[1;33m\u001b[0m\u001b[1;33m\u001b[0m\u001b[0m\n",
      "\u001b[1;31mAttributeError\u001b[0m: type object 'Mother' has no attribute 'display1'"
     ]
    }
   ],
   "source": [
    "m_obj=Mother\n",
    "m_obj.display2()\n",
    "m_obj.display1()\n",
    "m_obj.show()"
   ]
  },
  {
   "cell_type": "code",
   "execution_count": null,
   "metadata": {},
   "outputs": [],
   "source": []
  },
  {
   "cell_type": "code",
   "execution_count": null,
   "metadata": {},
   "outputs": [],
   "source": []
  },
  {
   "cell_type": "markdown",
   "metadata": {},
   "source": [
    "### Packages and Modules in OOPs"
   ]
  },
  {
   "cell_type": "markdown",
   "metadata": {},
   "source": [
    "- Module: collection of functions/classes  -----> .py files\n",
    "- Packages : collection of modules(folder/directory)"
   ]
  },
  {
   "cell_type": "code",
   "execution_count": 63,
   "metadata": {},
   "outputs": [
    {
     "name": "stdout",
     "output_type": "stream",
     "text": [
      "30\n",
      "-10\n",
      "200\n",
      "0.5\n",
      "10\n"
     ]
    }
   ],
   "source": [
    "from packages.module import Calc\n",
    "obj=Calc\n",
    "print(obj.add(10,20))\n",
    "print(obj.sub(10,20))\n",
    "print(obj.mul(10,20))\n",
    "print(obj.div(10,20))\n",
    "print(obj.mod(10,20))"
   ]
  },
  {
   "cell_type": "code",
   "execution_count": 64,
   "metadata": {},
   "outputs": [
    {
     "name": "stdout",
     "output_type": "stream",
     "text": [
      "5\n",
      "6\n",
      "12\n"
     ]
    }
   ],
   "source": [
    "from packages.module import *\n",
    "obj1=Math(5,6)\n",
    "obj1.show()\n",
    "obj1.add(1)"
   ]
  },
  {
   "cell_type": "code",
   "execution_count": null,
   "metadata": {},
   "outputs": [],
   "source": []
  }
 ],
 "metadata": {
  "kernelspec": {
   "display_name": "Python 3",
   "language": "python",
   "name": "python3"
  },
  "language_info": {
   "codemirror_mode": {
    "name": "ipython",
    "version": 3
   },
   "file_extension": ".py",
   "mimetype": "text/x-python",
   "name": "python",
   "nbconvert_exporter": "python",
   "pygments_lexer": "ipython3",
   "version": "3.7.3"
  }
 },
 "nbformat": 4,
 "nbformat_minor": 2
}
